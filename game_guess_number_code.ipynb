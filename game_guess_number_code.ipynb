{
 "cells": [
  {
   "cell_type": "code",
   "execution_count": 1,
   "metadata": {},
   "outputs": [],
   "source": [
    "from random import randint"
   ]
  },
  {
   "cell_type": "code",
   "execution_count": 2,
   "metadata": {},
   "outputs": [],
   "source": [
    "numToGuess = randint(1, 20)"
   ]
  },
  {
   "cell_type": "code",
   "execution_count": 3,
   "metadata": {},
   "outputs": [],
   "source": [
    "attempts = 0"
   ]
  },
  {
   "cell_type": "code",
   "execution_count": 4,
   "metadata": {},
   "outputs": [
    {
     "name": "stdout",
     "output_type": "stream",
     "text": [
      "What is your name? we\n"
     ]
    }
   ],
   "source": [
    "name = input(\"What is your name? \")"
   ]
  },
  {
   "cell_type": "code",
   "execution_count": 5,
   "metadata": {},
   "outputs": [
    {
     "name": "stdout",
     "output_type": "stream",
     "text": [
      "enter in 'quit' to exit the game\n"
     ]
    }
   ],
   "source": [
    "print(\"enter in 'quit' to exit the game\")"
   ]
  },
  {
   "cell_type": "code",
   "execution_count": 6,
   "metadata": {},
   "outputs": [
    {
     "name": "stdout",
     "output_type": "stream",
     "text": [
      "What is my number? 1\n",
      "Little chilly\n",
      "What is my number? 2\n",
      "Little chilly\n",
      "What is my number? 3\n",
      "Little chilly\n",
      "What is my number? 4\n",
      "Little chilly\n",
      "What is my number? 5\n",
      "Little chilly\n",
      "What is my number? 6\n",
      "Little chilly\n",
      "What is my number? 7\n",
      "Warm\n",
      "What is my number? 8\n",
      "Warm\n",
      "What is my number? 9\n",
      "Hot!\n",
      "What is my number? 10\n",
      "Hot!\n",
      "What is my number? 12\n",
      "Hot!\n",
      "What is my number? 13\n",
      "Hot!\n",
      "What is my number? 14\n",
      "Warm\n",
      "What is my number? 15\n",
      "Warm\n",
      "What is my number? 16\n",
      "Little chilly\n",
      "What is my number? 17\n",
      "Little chilly\n",
      "What is my number? 18\n",
      "Little chilly\n",
      "What is my number? 19\n",
      "Little chilly\n",
      "What is my number? 20\n",
      "Little chilly\n",
      "What is my number? 11\n",
      "Congratulations, we, you guessed my number(11)! It only took you 20 tries!\n"
     ]
    }
   ],
   "source": [
    "while(True):\n",
    "    userGuess = input(\"What is my number? \")\n",
    "    \n",
    "    attempts += 1\n",
    "    \n",
    "    if (userGuess == 'quit'):\n",
    "        print(numToGuess)\n",
    "        break\n",
    "    elif (userGuess == str(numToGuess)):\n",
    "        print(\"Congratulations, \" + name + \", you guessed my number(\" + str(numToGuess) + \")! It only took you \" \n",
    "              + str(attempts) + \" tries!\")\n",
    "        break\n",
    "    \n",
    "    if (numToGuess -2 <= int(userGuess) < numToGuess + 3):\n",
    "        print(\"Hot!\")\n",
    "    elif (numToGuess - 4 <= int(userGuess) < numToGuess + 5):\n",
    "        print(\"Warm\")\n",
    "    else:\n",
    "        print(\"Little chilly\")"
   ]
  },
  {
   "cell_type": "markdown",
   "metadata": {},
   "source": []
  }
 ],
 "metadata": {
  "kernelspec": {
   "display_name": "PythonData",
   "language": "python",
   "name": "pythondata"
  },
  "language_info": {
   "codemirror_mode": {
    "name": "ipython",
    "version": 3
   },
   "file_extension": ".py",
   "mimetype": "text/x-python",
   "name": "python",
   "nbconvert_exporter": "python",
   "pygments_lexer": "ipython3",
   "version": "3.8.3"
  }
 },
 "nbformat": 4,
 "nbformat_minor": 4
}
