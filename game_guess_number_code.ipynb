{
 "cells": [
  {
   "cell_type": "code",
   "execution_count": 1,
   "metadata": {},
   "outputs": [],
   "source": [
    "from random import randint"
   ]
  },
  {
   "cell_type": "code",
   "execution_count": 2,
   "metadata": {},
   "outputs": [],
   "source": [
    "numToGuess = randint(1, 100)"
   ]
  },
  {
   "cell_type": "code",
   "execution_count": 3,
   "metadata": {},
   "outputs": [],
   "source": [
    "attempts = 0"
   ]
  },
  {
   "cell_type": "code",
   "execution_count": 7,
   "metadata": {},
   "outputs": [
    {
     "name": "stdout",
     "output_type": "stream",
     "text": [
      "What is your name? Serge\n"
     ]
    }
   ],
   "source": [
    "name = input(\"What is your name? \")"
   ]
  },
  {
   "cell_type": "code",
   "execution_count": 5,
   "metadata": {},
   "outputs": [
    {
     "name": "stdout",
     "output_type": "stream",
     "text": [
      "enter in 'quit' to exit the game\n"
     ]
    }
   ],
   "source": [
    "print(\"enter in 'quit' to exit the game\")"
   ]
  },
  {
   "cell_type": "code",
   "execution_count": null,
   "metadata": {},
   "outputs": [],
   "source": [
    "while(True):\n",
    "    userGuess = input(\"What is my number? \")\n",
    "    \n",
    "    attempts += 1\n",
    "    \n",
    "    if (userGuess == 'quit'):\n",
    "        print(numToGuess)\n",
    "        break\n",
    "    elif (userGuess == str(numToGuess)):\n",
    "        print(\"Congratulations, \" + name + \", you guessed my number(\" + str(numToGuess) + \")! It only took you \" \n",
    "              + str(attempts) + \" tries!\")\n",
    "        break\n",
    "    \n",
    "    if (numToGuess -5 < int(userGuess) < numToGuess + 5):\n",
    "        print(\"Hot!\")\n",
    "    elif (numToGuess - 20 <= int(userGuess) < numToGuess - 5):\n",
    "        print(\"Warm\")\n",
    "    elif (numToGuess + 5 <= int(userGuess) <= numToGuess + 20):\n",
    "        print(\"Warm\")\n",
    "    else:\n",
    "        print(\"little chilly\")"
   ]
  },
  {
   "cell_type": "code",
   "execution_count": null,
   "metadata": {},
   "outputs": [],
   "source": []
  }
 ],
 "metadata": {
  "kernelspec": {
   "display_name": "PythonData",
   "language": "python",
   "name": "pythondata"
  },
  "language_info": {
   "codemirror_mode": {
    "name": "ipython",
    "version": 3
   },
   "file_extension": ".py",
   "mimetype": "text/x-python",
   "name": "python",
   "nbconvert_exporter": "python",
   "pygments_lexer": "ipython3",
   "version": "3.8.3"
  }
 },
 "nbformat": 4,
 "nbformat_minor": 4
}
