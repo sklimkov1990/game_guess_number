{
 "cells": [
  {
   "cell_type": "code",
   "execution_count": 1,
   "metadata": {},
   "outputs": [],
   "source": [
    "from random import randint"
   ]
  },
  {
   "cell_type": "code",
   "execution_count": 2,
   "metadata": {},
   "outputs": [],
   "source": [
    "numToGuess = randint(1, 100)"
   ]
  },
  {
   "cell_type": "code",
   "execution_count": 3,
   "metadata": {},
   "outputs": [],
   "source": [
    "attempts = 0"
   ]
  },
  {
   "cell_type": "code",
   "execution_count": 4,
   "metadata": {},
   "outputs": [
    {
     "name": "stdout",
     "output_type": "stream",
     "text": [
      "What is your name? alfredo\n"
     ]
    }
   ],
   "source": [
    "name = input(\"What is your name? \")"
   ]
  },
  {
   "cell_type": "code",
   "execution_count": 5,
   "metadata": {},
   "outputs": [
    {
     "name": "stdout",
     "output_type": "stream",
     "text": [
      "enter in 'quit' to exit the game\n"
     ]
    }
   ],
   "source": [
    "print(\"enter in 'quit' to exit the game\")"
   ]
  },
  {
   "cell_type": "code",
   "execution_count": 6,
   "metadata": {},
   "outputs": [
    {
     "name": "stdout",
     "output_type": "stream",
     "text": [
      "What is my number? 77\n",
      "little chilly\n",
      "What is my number? 7\n",
      "Warm\n",
      "What is my number? 5\n",
      "little chilly\n",
      "What is my number? 25\n",
      "Hot!\n",
      "What is my number? 30\n",
      "Hot!\n",
      "What is my number? 27\n",
      "Congratulations, alfredo, you guessed my number(27)! It only took you 6 tries!\n"
     ]
    }
   ],
   "source": [
    "while(True):\n",
    "    userGuess = input(\"What is my number? \")\n",
    "    \n",
    "    attempts += 1\n",
    "    \n",
    "    if (userGuess == 'quit'):\n",
    "        print(numToGuess)\n",
    "        break\n",
    "    elif (userGuess == str(numToGuess)):\n",
    "        print(\"Congratulations, \" + name + \", you guessed my number(\" + str(numToGuess) + \")! It only took you \" \n",
    "              + str(attempts) + \" tries!\")\n",
    "        break\n",
    "    \n",
    "    if (numToGuess -5 < int(userGuess) < numToGuess + 5):\n",
    "        print(\"Hot!\")\n",
    "    elif (numToGuess - 20 <= int(userGuess) < numToGuess - 5):\n",
    "        print(\"Warm\")\n",
    "    elif (numToGuess + 5 <= int(userGuess) <= numToGuess + 20):\n",
    "        print(\"Warm\")\n",
    "    else:\n",
    "        print(\"Little chilly\")"
   ]
  },
  {
   "cell_type": "code",
   "execution_count": null,
   "metadata": {},
   "outputs": [],
   "source": []
  }
 ],
 "metadata": {
  "kernelspec": {
   "display_name": "PythonData",
   "language": "python",
   "name": "pythondata"
  },
  "language_info": {
   "codemirror_mode": {
    "name": "ipython",
    "version": 3
   },
   "file_extension": ".py",
   "mimetype": "text/x-python",
   "name": "python",
   "nbconvert_exporter": "python",
   "pygments_lexer": "ipython3",
   "version": "3.8.3"
  }
 },
 "nbformat": 4,
 "nbformat_minor": 4
}
